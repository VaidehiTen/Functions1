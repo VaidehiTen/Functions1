{
  "nbformat": 4,
  "nbformat_minor": 0,
  "metadata": {
    "colab": {
      "provenance": []
    },
    "kernelspec": {
      "name": "python3",
      "display_name": "Python 3"
    },
    "language_info": {
      "name": "python"
    }
  },
  "cells": [
    {
      "cell_type": "markdown",
      "source": [
        "#Functions Assignment"
      ],
      "metadata": {
        "id": "LbuP_WQfDbzp"
      }
    },
    {
      "cell_type": "markdown",
      "source": [
        "1. What is the difference between a function and a method in Python?\n",
        "   - FUNCTION : A function is a block of code to carry out a specific task, will contain its own scope and is called by name. All functions may contain zero(no) arguments or more than one arguments. On exit, a function can or can not return one or more values.\n",
        "   -Classes are not required to define a function.\n",
        "   -Functions are independent of objects as they are not defined within a class.\n",
        "   -Functions can be invoked just by calling their names.\n",
        "   -Functions perform their operation on the data that the user passes as arguments or parameters.\n",
        "   -These are independent entities of a Python code\n",
        "   -‘Self’ parameter is not required in the case of functions. Functions may have zero or many arguments.\n",
        "   Example of function in Python:\n",
        "\n",
        "    def add_numbers(x, y):\n",
        "\n",
        "    return x + y\n",
        "\n",
        "    result = add_numbers(3, 5)\n",
        "\n",
        "    print(result)  \n",
        "   - METHOD : A method in Python is somewhat similar to a function, except it is associated with object/classes. Methods in Python are very similar to functions except for two major differences. (I)The method is implicitly used for an object for which it is called.\n",
        "   -Methods are always defined within a class.\n",
        "   -Methods are linked to the objects of the class in which they are defined.\n",
        "   -A method cannot be invoked by calling its name alone. The class to which it belongs should be invoked.\n",
        "   -Methods can execute the logic with the data enclosed in the object of the class to which it is associated.\n",
        "   -These are the class dependent entities of a Python code.\n",
        "   -The first argument of a method should be ‘self’.\n",
        "   (II)The method is accessible to data that is contained within the class. Example of method in Python:\n",
        "\n",
        "    name = \"Alice\"\n",
        "\n",
        "    upper_name = name.upper()\n",
        "\n",
        "    print(upper_name)\n",
        "\n",
        "\n",
        "2. Explain the concept of function arguments and parameters in Python?\n",
        "   - In Python, the terms “argument” and “parameter” are often used interchangeably, but they have slightly different meanings.\n",
        "   - ARGUMENTS(Actual Values) : Arguments are the actual values that are passed to a function when it is called. In other words, they are the values that are used to replace the placeholders (parameters) in the function definition.\n",
        "   In Python, arguments are passed within the parentheses of a function call.\n",
        "   - Example of Arguments :\n",
        "\n",
        "    def area(length, width):\n",
        "\n",
        "    #Parameters: length, width (Placeholder Values)#\n",
        "\n",
        "    return length * width\n",
        "\n",
        "    #Arguments: 10, 20 (Actual values#\n",
        "\n",
        "    result = area(10, 20)\n",
        "\n",
        "    print(result)\n",
        "\n",
        "    In this example, 10, and 20 are the arguments that are passed to the area() function. When the function is called, 10 and 20 are used to replace the length and width parameters in the function definition. As a result, the function returns 10 * 20 = 200 to the console.\n",
        "\n",
        "   - PARAMETERS (PlaceHolder Values) :\n",
        "   Parameters are the input variables that are defined when defining a function. They serve as placeholders for the actual values that will be passed to the function when it is called.\n",
        "   In Python, parameters are defined within the parentheses of a function definition.\n",
        "   - Example of Parameters\n",
        "\n",
        "    def area(length, width):\n",
        "\n",
        "    #Parameters: length, width (Placeholder Values)\n",
        "\n",
        "    return length * width\n",
        "\n",
        "    In this example, length and width are the parameters of the area() function. When this function is called, the value that is passed to length and width will be used to generate the value for the return statement.\n",
        "\n",
        "\n",
        "3.  What are the different ways to define and call a function in Python?\n",
        "    - In Python, functions are fundamental building blocks that allow you to encapsulate code for reuse and clarity.\n",
        "    - Defining Functions:\n",
        "\n",
        "      (i) Standard Function (Named Function) :\n",
        "      The most common way to define a function is using the def keyword, followed by the function name and parameters.\n",
        "\n",
        "      Example : def greet(name):\n",
        "\n",
        "      print(f\"Hello, {name}!\")\n",
        "\n",
        "      (ii) Anonymous Function (Lambda Function) :\n",
        "      Lambda functions are small, unnamed functions defined using the lambda keyword. They are typically used for short, simple operations.\n",
        "      \n",
        "      Example : square = lambda x: x * x\n",
        "      \n",
        "      print(square(5))  # Output: 25\n",
        "\n",
        "      (iii) Recursive Function :\n",
        "      A recursive function calls itself to solve smaller instances of the same problem. This approach is useful for tasks like calculating factorials or traversing hierarchical structures.\n",
        "\n",
        "      Example : def factorial(n):\n",
        "\n",
        "     if n == 1:\n",
        "\n",
        "        return 1\n",
        "\n",
        "     else:\n",
        "\n",
        "        return n * factorial(n - 1)\n",
        "\n",
        "      (iv) Higher-Order Function :\n",
        "      Higher-order functions take other functions as arguments or return them as results. This is common in functional programming paradigms.\n",
        "\n",
        "      Example : def apply_function(f, x):\n",
        "\n",
        "     return f(x)\n",
        "\n",
        "     result = apply_function(lambda x: x + 2, 5)\n",
        "     \n",
        "     print(result)  \n",
        "     ##### Output: 7\n",
        "\n",
        "    - Calling Functions:\n",
        "\n",
        "      (i) Direct Function Call :\n",
        "      Call the function by its name followed by parentheses containing any required arguments.\n",
        "\n",
        "      Example : greet(\"Alice\")  \n",
        "      ##### Output: Hello, Alice!\n",
        "\n",
        "      (ii) Using Default Parameters :\n",
        "      Functions can have default values for parameters, allowing you to call them without providing all arguments.\n",
        "      \n",
        "      Example : def greet(name, message=\"Hello\"):\n",
        "\n",
        "      print(f\"{message}, {name}!\")\n",
        "\n",
        "      greet(\"Bob\")  # Output: Hello, Bob!\n",
        "    \n",
        "      greet(\"Charlie\", \"Hi\")  # Output: Hi, Charlie!\n",
        "\n",
        "      (iii) Using Variable-Length Arguments :\n",
        "      You can define functions that accept a variable number of positional (*args) or keyword arguments (**kwargs).\n",
        "      Eaxmple :\n",
        "      (iv) Using Partial Functions :\n",
        "      The functools.partial function allows you to fix a certain number of arguments of a function and generate a new function.\n",
        "\n",
        "      (v) Using eval() :\n",
        "      The eval() function parses the expression passed to it and executes a valid Python expression within the program. This can be used to call functions dynamically.\n",
        "\n",
        "\n",
        "4. What is the purpose of the `return` statement in a Python function?\n",
        "   - The return statement is a crucial part of Python functions, as it allows you to send data back from the function to the caller. When a function encounters a return statement, it immediately exits the function and returns the specified value(s) to the caller.\n",
        "   - The Purpose of the Return Statement\n",
        "\n",
        "     The primary purpose of the return statement is to allow functions to produce output that can be used by the caller. This output can be a single value, multiple values, or even a complex data structure like a list or a dictionary. The returned value(s) can then be stored in a variable, used in further calculations, or passed to another function.\n",
        "   - Example :\n",
        "\n",
        "     def square(number):\n",
        "\n",
        "     return number ** 2\n",
        "\n",
        "     result = square(5)\n",
        "     \n",
        "     print(result)      \n",
        "     #### Output: 25  \n",
        "\n",
        "\n",
        "5. What are iterators in Python and how do they differ from iterables?\n",
        "   - An iterator : is an object representing a stream of data; it returns one element at a time from the iterable. Iterators are used to traverse through all the elements of an iterable.\n",
        "   - Key Characteristics :\n",
        "     \n",
        "     >An iterator implements two methods:\n",
        "\n",
        "     __iter__(): Returns the iterator object itself.\n",
        "\n",
        "     __next__(): Returns the next item from the iterator.\n",
        "\n",
        "     >Once all items are exhausted, __next__() raises a StopIteration exception.\n",
        "     \n",
        "     >All iterators are also iterables because they implement __iter__().\n",
        "   - Example :\n",
        "\n",
        "     class MyIterator:\n",
        "\n",
        "    def __init__(self, data):\n",
        "\n",
        "        self.data = data\n",
        "\n",
        "        self.index = 0\n",
        "\n",
        "    def __iter__(self):\n",
        "\n",
        "        return self\n",
        "\n",
        "    def __next__(self):\n",
        "\n",
        "        if self.index >= len(self.data):\n",
        "\n",
        "        raise StopIteration\n",
        "\n",
        "        value = self.data[self.index]\n",
        "\n",
        "        self.index += 1\n",
        "\n",
        "        return value\n",
        "\n",
        "   - An iterable : is any Python object capable of returning its members one at a time, permitting it to be iterated over in a for-loop. Common examples include lists, tuples, sets, strings, and dictionaries.\n",
        "   - Key Characteristics:\n",
        "\n",
        "     >An iterable implements the __iter__() method, which returns an iterator.\n",
        "\n",
        "     >It can be passed to the iter() function to obtain an iterator.\n",
        "\n",
        "     >Examples: list, tuple, set, dict, str.\n",
        "   - Example :\n",
        "\n",
        "     class MyIterable:\n",
        "\n",
        "    def __init__(self, data):\n",
        "        \n",
        "        self.data = data\n",
        "\n",
        "    def __iter__(self):\n",
        "       \n",
        "        return iter(self.data)\n",
        "    \n",
        "\n",
        "\n",
        "6. Explain the concept of generators in Python and how they are defined.\n",
        "   - A generator is a function that produces a sequence of values lazily, one at a time, rather than storing all values in memory at once. It allows for efficient iteration over large datasets or infinite sequences without loading the entire dataset into memory.\n",
        "   - Benefits of Using Generators:\n",
        "\n",
        "     >Memory Efficiency: Generators produce items one at a time and only when needed, reducing memory usage compared to storing the entire sequence in memory.\n",
        "\n",
        "     >Lazy Evaluation: Values are produced on-the-fly, which can improve performance when dealing with large datasets or infinite sequences.\n",
        "\n",
        "     >State Preservation: Generators maintain their state between iterations, allowing for complex iteration patterns.\n",
        "   - To define a generator, use the 'def' keyword as you would for a regular function, but include one or more 'yield' statements to produce values.\n",
        "\n",
        "     def count_up_to(n):\n",
        "\n",
        "      count = 0\n",
        "    \n",
        "      while count < n:\n",
        "       \n",
        "        yield count\n",
        "       \n",
        "        count += 1\n",
        "\n",
        "\n",
        "7. What are the advantages of using generators over regular functions?\n",
        "   - Using generators in Python offers several advantages over regular functions, especially when dealing with large datasets or streams of data.\n",
        "    >Memory Efficiency :\n",
        "     Generators produce items one at a time and only when needed, which is known as \"lazy evaluation.\" This approach significantly reduces memory usage compared to regular functions that generate and store entire sequences in memory. For instance, a generator expression uses only a fraction of the memory compared to a list comprehension.\n",
        "\n",
        "    >State Preservation :\n",
        "     Generators maintain their internal state between iterations. After yielding a value, the generator function pauses its execution and retains its local variables. On the next call, it resumes from where it left off. Regular functions, however, do not preserve state between calls.\n",
        "\n",
        "    >Representing Infinite Sequences :\n",
        "     Generators are ideal for representing infinite sequences, such as streams of data, because they generate values on-the-fly and do not require storing the entire sequence in memory.\n",
        "\n",
        "    >Cleaner and More Readable Code :\n",
        "     Generators allow for more concise and readable code by abstracting away the complexity of managing iterators manually. This leads to cleaner code that focuses on high-level logic.\n",
        "\n",
        "    >Reduced Overhead :\n",
        "     Generators can be more efficient than regular functions or loops, particularly when dealing with large datasets. They avoid the overhead of creating and storing large data structures, leading to faster execution times in certain scenarios.\n",
        "\n",
        "\n",
        "8.  What is a lambda function in Python and when is it typically used?\n",
        "    - A Lambda function is a small, anonymous function that can take any number of arguments and can only have one expression.\n",
        "    - It is called anonymous because it does not have a name like a regular function. Instead, it is created on-the-fly and used only where it is needed.\n",
        "    - In other words, a Lambda function is a way to create a small function without defining it separately.\n",
        "    - The syntax of the Lambda function is simple and concise. It begins with the keyword “lambda” followed by one or more arguments, separated by commas, and ends with a colon followed by an expression. sum = lambda x, y: x + y\n",
        "    - When to use Lambda Function :\n",
        "      >As a callback function: Lambda functions are commonly used as callback functions in libraries like map(), filter(), and reduce().\n",
        "\n",
        "      >To create higher-order functions: Lambda functions can be used to create higher-order functions like decorators and closures.\n",
        "\n",
        "      >For one-time use cases: Lambda functions are useful when you need a small function for a one-time use case, such as sorting a list or filtering data.\n",
        "    - Example :\n",
        "\n",
        "      (i)Sorting a list of tuples by the second element :\n",
        "\n",
        "      list = [(1, 2), (4, 1), (9, 10), (13, -3)] sorted_list = sorted(list, key=lambda x: x[1])\n",
        "\n",
        "      (ii)Creating a higher-order function :\n",
        "\n",
        "      def add(x): return lambda y: x + y\n",
        "\n",
        "\n",
        "9. Explain the purpose and usage of the `map()` function in Python.\n",
        "   - Map in Python is a function map()  that works as an iterator to return a result after applying a function to every item of an iterable (tuple, lists, etc.).\n",
        "   - Syntax : map(function, iterables)\n",
        "   - It is used when you want to apply a single transformation function to all the iterable elements. The iterable and function are passed as arguments to the map in Python.\n",
        "   - The primary purpose of map() is to apply a given function to each item in an iterable and return an iterator yielding the results. This is especially useful when you need to perform the same operation on all items in a collection.\n",
        "   - Example :\n",
        "\n",
        "   >def square(n):\n",
        "\n",
        "   >     return n*n\n",
        "\n",
        "   >numbers = (1, 2, 3, 4)\n",
        "   \n",
        "   >result = map(square, numbers)\n",
        "   \n",
        "   >print(result)\n",
        "\n",
        "   >result = set(result)\n",
        "   \n",
        "   >print(result)\n",
        "\n",
        "   #### Output : {16, 1, 4, 9}\n",
        "   - In the above example, we have defined a tuple named numbers with 4 elements.Here, the map() function squares each element of the tuple using the square function.Finally, we convert the map object to a set and obtain the squared values of each element in tuple.\n",
        "\n",
        "\n",
        "10. What is the difference between `map()`, `reduce()`, and `filter()` functions in Python?\n",
        "    - The map(), filter() and reduce() functions bring a bit of functional programming to Python. All three of these are convenience functions that can be replaced with List Comprehensions or loops, but provide a more elegant and short-hand approach to some problems.\n",
        "    - map() – Transforming Elements\n",
        "      >Purpose: Applies a given function to each item in an iterable and returns an iterator yielding the results.\n",
        "\n",
        "      >Syntax: map(function, iterable, ...)\n",
        "\n",
        "      >Returns: An iterator (Python 3.x). To obtain a list, convert it using list(map(...)).\n",
        "      \n",
        "      >Example :\n",
        "      \n",
        "        numbers = [1, 2, 3, 4]\n",
        "         \n",
        "        squares = map(lambda x: x ** 2, numbers)\n",
        "         \n",
        "        print(list(squares))\n",
        "\n",
        "        #### Output:   [1, 4, 9, 16]\n",
        "    - reduce() – Accumulating Results\n",
        "      \n",
        "      >Purpose: Applies a binary function (a function that takes two arguments) cumulatively to the items in an iterable, from left to right, reducing the iterable to a single value.\n",
        "\n",
        "      >Syntax: reduce(function, iterable[, initial])\n",
        "\n",
        "      >Returns: A single value resulting from the cumulative application of the function.\n",
        "\n",
        "      >Example\n",
        "\n",
        "        from functools import reduce\n",
        "\n",
        "        numbers = [1, 2, 3, 4]\n",
        "        \n",
        "        product = reduce(lambda x, y: x * y, numbers)\n",
        "        \n",
        "        print(product)\n",
        "\n",
        "        #### Output:   24\n",
        "    - filter() – Filtering Elements\n",
        "\n",
        "      >Purpose: Filters elements from an iterable based on a function that returns True or False, keeping only those that evaluate to True.\n",
        "\n",
        "      >Syntax: filter(function, iterable)\n",
        "\n",
        "      >Returns: An iterator (Python 3.x). To obtain a list, convert it using list(filter(...)).\n",
        "\n",
        "      >Example:\n",
        "\n",
        "        numbers = [1, 2, 3, 4, 5, 6]\n",
        "        \n",
        "        evens = filter(lambda x: x % 2 == 0, numbers)\n",
        "        \n",
        "        print(list(evens))\n",
        "\n",
        "        #### Output:   [2, 4, 6]\n",
        "\n",
        "\n",
        "11. Using pen & Paper write the internal mechanism for sum operation using  reduce function on this given\n",
        "list:[47,11,42,13];\n",
        "\n",
        "\n",
        "\n",
        "\n",
        "\n",
        "\n",
        "\n",
        "\n",
        "\n",
        "\n",
        "  \n",
        "\n",
        "  \n"
      ],
      "metadata": {
        "id": "tlt5m4voD9O1"
      }
    },
    {
      "cell_type": "markdown",
      "source": [
        "#Practical Questions:\n"
      ],
      "metadata": {
        "id": "E5xmml5roGkt"
      }
    },
    {
      "cell_type": "markdown",
      "source": [
        "1.  Write a Python function that takes a list of numbers as input and returns the sum of all even numbers in\n",
        "the list."
      ],
      "metadata": {
        "id": "nLNIDtZspoD5"
      }
    },
    {
      "cell_type": "code",
      "source": [
        "def sum_even_numbers(numbers):\n",
        "    \"\"\"Returns the sum of all even numbers in the provided list.\"\"\"\n",
        "    return sum(num for num in numbers if num % 2 == 0)\n",
        "\n",
        "numbers = [15, 36, 51, 27]\n",
        "result = sum_even_numbers(numbers)\n",
        "print(f\"The sum of even numbers in {numbers} is: {result}\")\n"
      ],
      "metadata": {
        "colab": {
          "base_uri": "https://localhost:8080/"
        },
        "id": "qZuOQ-qRpqDL",
        "outputId": "52572d40-4800-43a0-d29c-16f7b3fa4753"
      },
      "execution_count": 2,
      "outputs": [
        {
          "output_type": "stream",
          "name": "stdout",
          "text": [
            "The sum of even numbers in [15, 36, 51, 27] is: 36\n"
          ]
        }
      ]
    },
    {
      "cell_type": "markdown",
      "source": [
        "2. Create a Python function that accepts a string and returns the reverse of that string."
      ],
      "metadata": {
        "id": "DedHtggQscmN"
      }
    },
    {
      "cell_type": "code",
      "source": [
        "def reverse_string(input_str):\n",
        "    \"\"\"Returns the reverse of the provided string.\"\"\"\n",
        "    return input_str[::-1]\n",
        "\n",
        "original_str = \"Python Function\"\n",
        "reversed_str = reverse_string(original_str)\n",
        "print(f\"Original: {original_str}\")\n",
        "print(f\"Reversed: {reversed_str}\")\n"
      ],
      "metadata": {
        "colab": {
          "base_uri": "https://localhost:8080/"
        },
        "id": "WtXmE3WDshQj",
        "outputId": "673a59a0-8e52-4fa6-80b9-674471ff90f3"
      },
      "execution_count": 4,
      "outputs": [
        {
          "output_type": "stream",
          "name": "stdout",
          "text": [
            "Original: Python Function\n",
            "Reversed: noitcnuF nohtyP\n"
          ]
        }
      ]
    },
    {
      "cell_type": "markdown",
      "source": [
        "3. Implement a Python function that takes a list of integers and returns a new list containing the squares of\n",
        "each number."
      ],
      "metadata": {
        "id": "z1WTmCmRthK4"
      }
    },
    {
      "cell_type": "code",
      "source": [
        "def square_numbers(numbers):\n",
        "    return [num ** 2 for num in numbers]\n",
        "\n",
        "numbers = [11, 22, 33, 44]\n",
        "squared_numbers = square_numbers(numbers)\n",
        "print(squared_numbers)\n"
      ],
      "metadata": {
        "colab": {
          "base_uri": "https://localhost:8080/"
        },
        "id": "XKl8Z7t2tk9Q",
        "outputId": "6ac38300-b84f-4aec-9d14-23dfe52e306e"
      },
      "execution_count": 5,
      "outputs": [
        {
          "output_type": "stream",
          "name": "stdout",
          "text": [
            "[121, 484, 1089, 1936]\n"
          ]
        }
      ]
    },
    {
      "cell_type": "markdown",
      "source": [
        "4.  Write a Python function that checks if a given number is prime or not from 1 to 200."
      ],
      "metadata": {
        "id": "PLTcUQ7nuDey"
      }
    },
    {
      "cell_type": "code",
      "source": [
        "import math\n",
        "\n",
        "def is_prime(n):\n",
        "    \"\"\"Returns True if n is a prime number, else False.\"\"\"\n",
        "    if n <= 1:\n",
        "        return False\n",
        "    for i in range(2, int(math.sqrt(n)) + 1):\n",
        "        if n % i == 0:\n",
        "            return False\n",
        "    return True\n",
        "\n",
        "numbers = range(1, 201)\n",
        "primes = [num for num in numbers if is_prime(num)]\n",
        "print(\"Prime numbers from 1 to 200:\", primes)\n",
        "\n"
      ],
      "metadata": {
        "colab": {
          "base_uri": "https://localhost:8080/"
        },
        "id": "0H7jpA-IuH0h",
        "outputId": "e28c43e8-669c-4849-aaae-cc1e4b89ed74"
      },
      "execution_count": 8,
      "outputs": [
        {
          "output_type": "stream",
          "name": "stdout",
          "text": [
            "Prime numbers from 1 to 200: [2, 3, 5, 7, 11, 13, 17, 19, 23, 29, 31, 37, 41, 43, 47, 53, 59, 61, 67, 71, 73, 79, 83, 89, 97, 101, 103, 107, 109, 113, 127, 131, 137, 139, 149, 151, 157, 163, 167, 173, 179, 181, 191, 193, 197, 199]\n"
          ]
        }
      ]
    },
    {
      "cell_type": "markdown",
      "source": [
        "5.  Create an iterator class in Python that generates the Fibonacci sequence up to a specified number of\n",
        "terms."
      ],
      "metadata": {
        "id": "n07fyB7Hu7vs"
      }
    },
    {
      "cell_type": "code",
      "source": [
        "class FibonacciIterator:\n",
        "    def __init__(self, limit):\n",
        "        self.limit = limit\n",
        "        self.current = 0\n",
        "        self.next_num = 1\n",
        "        self.count = 0\n",
        "\n",
        "    def __iter__(self):\n",
        "        return self\n",
        "\n",
        "    def __next__(self):\n",
        "        if self.count < self.limit:\n",
        "            result = self.current\n",
        "            self.current, self.next_num = self.next_num, self.current + self.next_num\n",
        "            self.count += 1\n",
        "            return result\n",
        "        else:\n",
        "            raise StopIteration\n",
        "\n",
        "fib_iter = FibonacciIterator(15)\n",
        "for num in fib_iter:\n",
        "    print(num)"
      ],
      "metadata": {
        "colab": {
          "base_uri": "https://localhost:8080/"
        },
        "id": "UUF8-FGRu_ik",
        "outputId": "8c1b6aa5-0b21-4f30-8b5d-9a0b185471fb"
      },
      "execution_count": 11,
      "outputs": [
        {
          "output_type": "stream",
          "name": "stdout",
          "text": [
            "0\n",
            "1\n",
            "1\n",
            "2\n",
            "3\n",
            "5\n",
            "8\n",
            "13\n",
            "21\n",
            "34\n",
            "55\n",
            "89\n",
            "144\n",
            "233\n",
            "377\n"
          ]
        }
      ]
    },
    {
      "cell_type": "markdown",
      "source": [
        "6. Write a generator function in Python that yields the powers of 2 up to a given exponent."
      ],
      "metadata": {
        "id": "nunDgW_fv6Xf"
      }
    },
    {
      "cell_type": "code",
      "source": [
        "def powers_of_two(exponent):\n",
        "    for n in range(exponent + 1):\n",
        "        yield 2 ** n\n",
        "\n",
        "for power in powers_of_two(6):\n",
        "    print(power)\n",
        ""
      ],
      "metadata": {
        "colab": {
          "base_uri": "https://localhost:8080/"
        },
        "id": "qDW-Or4xwSbG",
        "outputId": "ccd16b36-8f30-4220-a3a7-8b81a35f567d"
      },
      "execution_count": 13,
      "outputs": [
        {
          "output_type": "stream",
          "name": "stdout",
          "text": [
            "1\n",
            "2\n",
            "4\n",
            "8\n",
            "16\n",
            "32\n",
            "64\n"
          ]
        }
      ]
    },
    {
      "cell_type": "markdown",
      "source": [
        "7.  Implement a generator function that reads a file line by line and yields each line as a string."
      ],
      "metadata": {
        "id": "kSDNTp4Nw80w"
      }
    },
    {
      "cell_type": "code",
      "source": [
        "def read_file_line_by_line(file_path):\n",
        "    with open(file_path, 'r', encoding='utf-8') as file:\n",
        "        for line in file:\n",
        "            yield line.rstrip('\\n')  # Strips newline character\n",
        "\n",
        "for line in read_file_line_by_line('example.txt'):\n",
        "    print(line)\n"
      ],
      "metadata": {
        "id": "Obzkh6BH4yFx"
      },
      "execution_count": null,
      "outputs": []
    },
    {
      "cell_type": "markdown",
      "source": [
        "8. Use a lambda function in Python to sort a list of tuples based on the second element of each tuple."
      ],
      "metadata": {
        "id": "_r9ufRSgyYWe"
      }
    },
    {
      "cell_type": "code",
      "source": [
        "# list of tuples\n",
        "data = [(1, 3), (4, 1), (2, 2)]\n",
        "\n",
        "# Sort the list based on the second element of each tuple\n",
        "sorted_data = sorted(data, key=lambda x: x[1])\n",
        "\n",
        "print(sorted_data)\n",
        "\n"
      ],
      "metadata": {
        "colab": {
          "base_uri": "https://localhost:8080/"
        },
        "id": "xjqodSMfyaBu",
        "outputId": "3135cdc7-2a04-4b80-c099-1789ca875d0e"
      },
      "execution_count": 22,
      "outputs": [
        {
          "output_type": "stream",
          "name": "stdout",
          "text": [
            "[(4, 1), (2, 2), (1, 3)]\n"
          ]
        }
      ]
    },
    {
      "cell_type": "markdown",
      "source": [
        "9.  Write a Python program that uses `map()` to convert a list of temperatures from Celsius to Fahrenheit."
      ],
      "metadata": {
        "id": "TzS7LPV00UU0"
      }
    },
    {
      "cell_type": "code",
      "source": [
        "# List of temperatures in Celsius\n",
        "celsius_temperatures = [3, 6, 45, 36, 75]\n",
        "\n",
        "# Function to convert Celsius to Fahrenheit\n",
        "def celsius_to_fahrenheit(celsius):\n",
        "    return (celsius * 9/5) + 32\n",
        "\n",
        "# Using map() to apply the conversion function to each temperature\n",
        "fahrenheit_temperatures = list(map(celsius_to_fahrenheit, celsius_temperatures))\n",
        "\n",
        "# Output the result\n",
        "print(fahrenheit_temperatures)\n",
        "\n"
      ],
      "metadata": {
        "colab": {
          "base_uri": "https://localhost:8080/"
        },
        "id": "OBKQYrUS0fPC",
        "outputId": "410e575c-fcb1-4cdb-cf6e-8546d92a1a53"
      },
      "execution_count": 24,
      "outputs": [
        {
          "output_type": "stream",
          "name": "stdout",
          "text": [
            "[37.4, 42.8, 113.0, 96.8, 167.0]\n"
          ]
        }
      ]
    },
    {
      "cell_type": "markdown",
      "source": [
        "10.  Create a Python program that uses `filter()` to remove all the vowels from a given string."
      ],
      "metadata": {
        "id": "rT_1H7iz1uYf"
      }
    },
    {
      "cell_type": "code",
      "source": [
        "def remove_vowels(input_string):\n",
        "    return ''.join(filter(lambda x: x.lower() not in 'aeiou', input_string))\n",
        "\n",
        "input_str = \"Sky is beautiful\"\n",
        "result = remove_vowels(input_str)\n",
        "print(\"Original String:\", input_str)\n",
        "print(\"Without Vowels:\", result)\n"
      ],
      "metadata": {
        "colab": {
          "base_uri": "https://localhost:8080/"
        },
        "id": "hbe2Ch9R1yiT",
        "outputId": "b59f6cdc-06c0-4cbc-c76c-5806a1e011ac"
      },
      "execution_count": 26,
      "outputs": [
        {
          "output_type": "stream",
          "name": "stdout",
          "text": [
            "Original String: Sky is beautiful\n",
            "Without Vowels: Sky s btfl\n"
          ]
        }
      ]
    },
    {
      "cell_type": "markdown",
      "source": [
        "11. Write a Python program, which returns a list with 2-tuples. Each tuple consists of the order number and the\n",
        "product of the price per item and the quantity. The product should be increased by 10,- € if the value of the\n",
        "order is smaller than 100,00 €.\n",
        "\n",
        "Write a Python program using lambda and map."
      ],
      "metadata": {
        "id": "WG0dRr6P2IaI"
      }
    },
    {
      "cell_type": "code",
      "source": [
        "# Data: [Order Number, Book Title and Author, Quantity, Price per Item]\n",
        "orders = [\n",
        "    [34587, \"Learning Python, Mark Lutz\", 4, 40.95],\n",
        "    [98762, \"Programming Python, Mark Lutz\", 5, 56.80],\n",
        "    [77226, \"Head First Python, Paul Barry\", 3, 32.95],\n",
        "    [88112, \"Einführung in Python3, Bernd Klein\", 3, 24.99]\n",
        "]\n",
        "\n",
        "# Using map and lambda to compute the desired output\n",
        "result = list(map(lambda order: (\n",
        "    order[0],\n",
        "    order[2] * order[3] + 10 if order[2] * order[3] < 100 else order[2] * order[3]\n",
        "), orders))\n",
        "\n",
        "print(result)\n"
      ],
      "metadata": {
        "colab": {
          "base_uri": "https://localhost:8080/"
        },
        "id": "Je7sKJIx2Zku",
        "outputId": "97ac0d82-b632-481d-953d-d5e70f49976e"
      },
      "execution_count": 27,
      "outputs": [
        {
          "output_type": "stream",
          "name": "stdout",
          "text": [
            "[(34587, 163.8), (98762, 284.0), (77226, 108.85000000000001), (88112, 84.97)]\n"
          ]
        }
      ]
    }
  ]
}